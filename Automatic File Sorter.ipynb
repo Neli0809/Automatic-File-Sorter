{
 "cells": [
  {
   "cell_type": "markdown",
   "id": "22dbfb99-1722-4450-be61-9d3ffd5ac836",
   "metadata": {},
   "source": [
    "# Automatic File Sorter Explorer"
   ]
  },
  {
   "cell_type": "code",
   "execution_count": 108,
   "id": "74612c4f-781b-4b8d-8a76-98374474016b",
   "metadata": {},
   "outputs": [],
   "source": [
    "import os, shutil"
   ]
  },
  {
   "cell_type": "code",
   "execution_count": 110,
   "id": "76ff6530-82fa-42a4-8b76-00cc77f6612c",
   "metadata": {},
   "outputs": [],
   "source": [
    "path = r\"C:/Users/Neli/Documents/Python Tutorials/\""
   ]
  },
  {
   "cell_type": "code",
   "execution_count": 112,
   "id": "dfa332d6-56b2-4619-bdfe-72dd25ad717b",
   "metadata": {},
   "outputs": [],
   "source": [
    "file_name = os.listdir(path)"
   ]
  },
  {
   "cell_type": "code",
   "execution_count": 120,
   "id": "7e41a0b0-c45c-4208-a849-d5ba30d7ba95",
   "metadata": {},
   "outputs": [],
   "source": [
    "folder_names = ['csv files', 'image files', 'text files']\n",
    "\n",
    "for loop in range(0,3):\n",
    "   if not os.path.exists(path + folder_names[loop]):\n",
    "        #print(path + folder_names[loop])\n",
    "        os.makedirs(path + folder_names[loop])\n",
    "\n",
    "for file in file_name:\n",
    "    if \".csv\" in file and not os.path.exists(path + \"csv files/\" + file):\n",
    "         shutil.move(path + file, path + \"csv files/\" + file)\n",
    "    elif \".png\" in file and not os.path.exists(path + \"image files/\" + file):\n",
    "         shutil.move(path + file, path + \"image files/\" + file)\n",
    "    elif \".txt\" in file and not os.path.exists(path + \"text files/\" + file):\n",
    "         shutil.move(path + file, path + \"text files/\" + file)"
   ]
  },
  {
   "cell_type": "code",
   "execution_count": null,
   "id": "032b0479-f8e9-4ab0-a900-2973ce6b595e",
   "metadata": {},
   "outputs": [],
   "source": []
  },
  {
   "cell_type": "code",
   "execution_count": null,
   "id": "c10735d6-84a7-4b9d-a561-4b8116f7314e",
   "metadata": {},
   "outputs": [],
   "source": []
  }
 ],
 "metadata": {
  "kernelspec": {
   "display_name": "Python 3 (ipykernel)",
   "language": "python",
   "name": "python3"
  },
  "language_info": {
   "codemirror_mode": {
    "name": "ipython",
    "version": 3
   },
   "file_extension": ".py",
   "mimetype": "text/x-python",
   "name": "python",
   "nbconvert_exporter": "python",
   "pygments_lexer": "ipython3",
   "version": "3.12.4"
  }
 },
 "nbformat": 4,
 "nbformat_minor": 5
}
